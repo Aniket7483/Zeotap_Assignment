{
 "cells": [
  {
   "cell_type": "code",
   "execution_count": 2,
   "id": "879f148e-2a7b-48c6-b97c-409dc4768a82",
   "metadata": {},
   "outputs": [],
   "source": [
    "import pandas as pd"
   ]
  },
  {
   "cell_type": "code",
   "execution_count": 11,
   "id": "941b7c45-582a-47ce-a684-a8f042995619",
   "metadata": {},
   "outputs": [],
   "source": [
    "customer = pd.read_csv(r\"C:\\Users\\Aniket\\Downloads\\Customers.csv\")\n",
    "products = pd.read_csv(r\"C:\\Users\\Aniket\\Downloads\\Products.csv\")\n",
    "transactions = pd.read_csv(r\"C:\\Users\\Aniket\\Downloads\\Transactions.csv\")\n",
    "\n",
    "transactions_products = transactions.merge(products, on= \"ProductID\",how='left')\n",
    "\n",
    "full_data = transactions_products.merge(customer, on='CustomerID',how='left')\n",
    "\n",
    "#aggregating the transaction data\n",
    "customer_agg  = full_data.groupby(\"CustomerID\").agg({\n",
    "    \"TotalValue\":\"sum\",# total Spend\n",
    "    \"TransactionID\":'count', # number of transactions\n",
    "    \"Quantity\":'sum'# total quantity purchased \n",
    "})\n",
    "most_freq_category = full_data.groupby(\"CustomerID\")['Category'].agg(lambda x: x.mode()[0])\n",
    "\n",
    "# combining all the features \n",
    "final_data = customer_agg.join(most_freq_category.rename(\"MostFrequentCategory\"))\n",
    "final_data = final_data.join(customer.set_index(\"CustomerID\"))\n",
    "final_data[\"SignupTenure\"] = pd.to_datetime(\"today\") - pd.to_datetime(final_data[\"SignupDate\"])\n",
    "final_data.to_csv(\"fullData.csv\",index=True)\n",
    "                             "
   ]
  },
  {
   "cell_type": "code",
   "execution_count": 9,
   "id": "1efc0773-5731-4c43-888b-f8d0865374a0",
   "metadata": {},
   "outputs": [],
   "source": [
    "from sklearn.preprocessing import StandardScaler\n",
    "from sklearn.metrics.pairwise import cosine_similarity\n",
    "\n",
    "# Feature Engineering \n",
    "customer_features = full_data.groupby('CustomerID').agg({\n",
    "    'TotalValue':'sum',\n",
    "    'Quantity':'sum',\n",
    "    'ProductID':'nunique' # unique products purchased\n",
    "}).reset_index()"
   ]
  },
  {
   "cell_type": "code",
   "execution_count": 10,
   "id": "4e203852-872e-4e5e-a3cb-27d635c3cf7b",
   "metadata": {},
   "outputs": [],
   "source": [
    "# Scale features\n",
    "scaler = StandardScaler()\n",
    "scaled_feature = scaler.fit_transform(customer_features[['TotalValue','Quantity','ProductID']])\n",
    "\n",
    "# compute Cosine similarity \n",
    "similarities = cosine_similarity(scaled_feature)\n",
    "\n",
    "lookalike_results = {}\n",
    "\n",
    "for idx, customer_id in enumerate(customer_features['CustomerID']):\n",
    "    similarity_scores = list(enumerate(similarities[idx]))\n",
    "    similarity_scores = sorted(similarity_scores,key = lambda x: x[1],reverse=True)[1:4]\n",
    "    lookalike_results[customer_id] = [(customer_features.loc[i]['CustomerID'],score)for i, score in similarity_scores]\n",
    "# converted to dataframe\n",
    "\n",
    "lookalike_df = pd.DataFrame({\n",
    "    'CustomerID':customer_features['CustomerID'],\n",
    "    'Lookalikes':[lookalike_results[cust]for cust in customer_features['CustomerID']]\n",
    "})\n",
    "lookalike_df.to_csv('Lookalike.csv',index = False)"
   ]
  },
  {
   "cell_type": "code",
   "execution_count": null,
   "id": "e403d2dc-d502-40fa-80ca-06ea00b79ff6",
   "metadata": {},
   "outputs": [],
   "source": []
  }
 ],
 "metadata": {
  "kernelspec": {
   "display_name": "Python 3 (ipykernel)",
   "language": "python",
   "name": "python3"
  },
  "language_info": {
   "codemirror_mode": {
    "name": "ipython",
    "version": 3
   },
   "file_extension": ".py",
   "mimetype": "text/x-python",
   "name": "python",
   "nbconvert_exporter": "python",
   "pygments_lexer": "ipython3",
   "version": "3.12.6"
  }
 },
 "nbformat": 4,
 "nbformat_minor": 5
}
